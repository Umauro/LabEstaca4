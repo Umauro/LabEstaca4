{
 "cells": [
  {
   "cell_type": "markdown",
   "metadata": {},
   "source": [
    "<link rel=\"stylesheet\" href=\"https://stackpath.bootstrapcdn.com/bootstrap/4.1.3/css/bootstrap.min.css\" integrity=\"sha384-MCw98/SFnGE8fJT3GXwEOngsV7Zt27NXFoaoApmYm81iuXoPkFOJwJ8ERdknLPMO\" crossorigin=\"anonymous\">\n",
    "\n",
    "<div class=\"container-fluid text-center\">\n",
    "    <div class=\"row\">\n",
    "        <div class=\"col\">\n",
    "            <img src=\"img/usmlogo.png\" style=\"width:100px;float:left\" class=\"d-inline-block\">\n",
    "        </div>\n",
    "        <div class=\"col\" class=\"d-inline\">\n",
    "            <h1>Laboratorio 4 Estadística Computacional</h1>\n",
    "            Giorgio Pellizzari - 201473599-5 - Malla Nueva<br>\n",
    "            Felipe Vega - 201473511-1 - Malla Nueva<br>\n",
    "            9 de abril del 2018<br>\n",
    "        </div>\n",
    "        <div class=\"col mr-auto\">\n",
    "            <img src=\"img/dilogo.png\" style=\"width:60px;float:right;\" class=\"d-inline-block mb-5\">\n",
    "        </div>\n",
    "    </div>\n",
    "</div>\n",
    "\n"
   ]
  },
  {
   "cell_type": "code",
   "execution_count": 54,
   "metadata": {
    "collapsed": false
   },
   "outputs": [
    {
     "data": {
      "text/html": [
       "<style>.container { width:95% !important; }</style>"
      ],
      "text/plain": [
       "<IPython.core.display.HTML object>"
      ]
     },
     "metadata": {},
     "output_type": "display_data"
    }
   ],
   "source": [
    "from scipy.stats import poisson\n",
    "import pandas as pd\n",
    "import matplotlib.pyplot as plt\n",
    "import numpy as np\n",
    "import scipy as sci\n",
    "from scipy import stats, special\n",
    "import statsmodels.api as sm\n",
    "import math\n",
    "import seaborn as sns\n",
    "from IPython.display import IFrame\n",
    "from IPython.core.display import display, HTML\n",
    "display(HTML(\"<style>.container { width:95% !important; }</style>\"))\n",
    "#import warnings\n",
    "#warnings.filterwarnings('ignore')"
   ]
  },
  {
   "cell_type": "markdown",
   "metadata": {},
   "source": [
    "# Análisis Exploratorio\n",
    "\n",
    "Se realiza análisis exploratorio del dataset \"student-por.csv\", el cual consiste en datos recopilados de los alumnos de dos escuelas de portugués.\n",
    "\n",
    "A partir de este dataset se estudiará la relación que hay entre el rendimiento del estudiante y el entorno en el que se desempeña. Para facilitar el analisis se generará un sub-dataset que contendrá solo la información que sea mas relevante para el análisis."
   ]
  },
  {
   "cell_type": "code",
   "execution_count": 55,
   "metadata": {
    "collapsed": false
   },
   "outputs": [],
   "source": [
    "dataset = pd.read_csv('student-por.csv',sep=\";\",usecols=[\"school\",\"address\",\"G3\"])\n",
    "\n",
    "\n",
    "#porSchool.boxplot(column=\"G2\")\n",
    "#plt.show()\n"
   ]
  },
  {
   "cell_type": "markdown",
   "metadata": {},
   "source": [
    "Se comenzará analizando el rendimiento del alumno según la escuela en la que estudia."
   ]
  },
  {
   "cell_type": "code",
   "execution_count": 56,
   "metadata": {
    "collapsed": false
   },
   "outputs": [
    {
     "name": "stdout",
     "output_type": "stream",
     "text": [
      "12.576832151300236\n",
      "10.650442477876107\n"
     ]
    }
   ],
   "source": [
    "subdataset = dataset[[\"school\",\"address\",\"G3\"]].query('school == \"GP\"')\n",
    "gp=len(subdataset)\n",
    "promediogp=subdataset[\"G3\"].sum()/gp \n",
    "print (promediogp)\n",
    "\n",
    "subdataset1 = dataset[[\"school\",\"address\",\"G3\"]].query('school == \"MS\"')\n",
    "ms=len(subdataset1)\n",
    "promedioms=subdataset1[\"G3\"].sum()/ms\n",
    "\n",
    "\n",
    "print (promedioms)\n"
   ]
  },
  {
   "cell_type": "markdown",
   "metadata": {},
   "source": [
    "Se logra observar que los alumnos de la escuela Mousinho da Silveira tienen menor rendimiento promedio (10,65) que los alumnos de la escuela Gabriel Pereira (12,57).\n",
    "\n",
    "Se realiza un boxplot separando según escuela."
   ]
  },
  {
   "cell_type": "code",
   "execution_count": 57,
   "metadata": {
    "collapsed": false
   },
   "outputs": [
    {
     "data": {
      "text/plain": [
       "<matplotlib.figure.Figure at 0x1f1c0114668>"
      ]
     },
     "metadata": {},
     "output_type": "display_data"
    },
    {
     "data": {
      "image/png": "[encoded data removed]",
      "text/plain": [
       "<matplotlib.figure.Figure at 0x1f1bfc22d68>"
      ]
     },
     "metadata": {},
     "output_type": "display_data"
    }
   ],
   "source": [
    "plt.figure(figsize=(6, 20))\n",
    "dataset[[\"school\",\"G3\"]].boxplot(by=\"school\")\n",
    "plt.title('Rendimiento Final según Escuela' + str())\n",
    "plt.ylabel('Nota')\n",
    "plt.xlabel(\"Escuela\")\n",
    "plt.show() "
   ]
  },
  {
   "cell_type": "markdown",
   "metadata": {},
   "source": [
    "Se logra observar que la escuela Gabriel Pereira tiene una mayor mediana de datos. La presencia de más outliers en el caso de la escuela Gabriel Pereira indica que existe una mayor cantidad de alumnos con menor rendimiento que el resto, lo cual no afecta en gran medida al rendimiento promedio frente a la otra escuela que posee menos outliers inferiores y su bigote superior abarca notas mayores a las del bigote superior de la escuela Gabriel Pereira. Aún así, los promedios de la escuela Gabriel Pereira se ven acumulados en notas más altas que los de la otra escuela.\n",
    "\n",
    "Se procede a analizar el rendimiento del alumno según su localidad (address), para esto se realiza el mismo analisis hecho previamente."
   ]
  },
  {
   "cell_type": "code",
   "execution_count": 58,
   "metadata": {
    "collapsed": false
   },
   "outputs": [
    {
     "name": "stdout",
     "output_type": "stream",
     "text": [
      "12.263274336283185\n",
      "11.086294416243655\n"
     ]
    }
   ],
   "source": [
    "subdataset2 = dataset[[\"school\",\"address\",\"G3\"]].query('address == \"U\"')\n",
    "U=len(subdataset2)\n",
    "promedioU=subdataset2[\"G3\"].sum()/U\n",
    "print (promedioU)\n",
    "\n",
    "subdataset3 = dataset[[\"school\",\"address\",\"G3\"]].query('address == \"R\"')\n",
    "R=len(subdataset3)\n",
    "promedioR=subdataset3[\"G3\"].sum()/R\n",
    "\n",
    "\n",
    "print (promedioR)"
   ]
  },
  {
   "cell_type": "markdown",
   "metadata": {},
   "source": [
    "Los alumnos que viven es localidades urbanas poseen un promedio de rendimiento de 12,26 mientras que los alumnos de localidad rural poseen un rendimiento promedio de 11.09, lo cual no es una diferencia tan significativa dado el rango de notas.\n",
    "\n",
    "Se realiza un boxplot para comparar ambas localidades."
   ]
  },
  {
   "cell_type": "code",
   "execution_count": 59,
   "metadata": {
    "collapsed": false
   },
   "outputs": [
    {
     "data": {
      "text/plain": [
       "<matplotlib.figure.Figure at 0x1f1bfcc5e10>"
      ]
     },
     "metadata": {},
     "output_type": "display_data"
    },
    {
     "data": {
      "image/png": "[encoded data removed]",
      "text/plain": [
       "<matplotlib.figure.Figure at 0x1f1bf718940>"
      ]
     },
     "metadata": {},
     "output_type": "display_data"
    }
   ],
   "source": [
    "plt.figure(figsize=(6, 20))\n",
    "dataset[[\"address\",\"G3\"]].boxplot(by=\"address\")\n",
    "plt.title('Rendimiento Final segun Localidad' + str())\n",
    "plt.ylabel('Nota')\n",
    "plt.xlabel(\"Localidad\")\n",
    "plt.show()  "
   ]
  },
  {
   "cell_type": "markdown",
   "metadata": {},
   "source": [
    "En este caso, a diferencia de lo presentado en las distintas escuelas, el rendimiento del alumno no se ve fuertemente afectado por su localidad o address. En el caso de los rurales, se presenta que la mayoria de los datos están más acumulados dado que el tamaño de sus bigotes y caja son menores, tanto inferiores como superiores, presentando outliers en ambos sentidos. En cambio, los urbanos presenta menos acumulación de datos, teniendo una mediana levemente superior a los rurales pero no significativa y presentando bigotes de mayor rango. Se presentan ademas mayor cantidad de outliers inferiores en zona urbana, lo cual no entrega mayor información.\n",
    "\n",
    "Se puede además, realizar el mismo estudio según el acceso a internet que tiene el alumno."
   ]
  },
  {
   "cell_type": "code",
   "execution_count": 60,
   "metadata": {
    "collapsed": false
   },
   "outputs": [
    {
     "data": {
      "text/plain": [
       "<matplotlib.figure.Figure at 0x1f1c01440b8>"
      ]
     },
     "metadata": {},
     "output_type": "display_data"
    },
    {
     "data": {
      "image/png": "[encoded data removed]",
      "text/plain": [
       "<matplotlib.figure.Figure at 0x1f1bf6b6c50>"
      ]
     },
     "metadata": {},
     "output_type": "display_data"
    }
   ],
   "source": [
    "internet = pd.read_csv('student-por.csv',sep=\";\",usecols=[\"internet\",\"G3\"])\n",
    "plt.figure(figsize=(6, 20))\n",
    "internet.boxplot(by=\"internet\")\n",
    "plt.title('Rendimiento Final segun acceso a Internet' + str())\n",
    "plt.ylabel('Nota')\n",
    "plt.xlabel(\"Tiene internet\")\n",
    "plt.show()  "
   ]
  },
  {
   "cell_type": "markdown",
   "metadata": {},
   "source": [
    "Se logra observar que los bigotes en el caso de los que tienen internet son más amplios que en caso de los que no tienen internet, dando la idea de que la presencia de internet puede ser tanto beneficiosa como no serlo para el alumno. En ambos casos se presenta outliers inferiores pero en el caso de no tener internet, también se presentan outliers superiores, los cuales están dentro del rango de los bigotes superiores del caso de si tener internet. Esto indica que es más frecuente tener casos de mejor rendimiento en caso de tener internet.\n",
    "\n",
    "Finalmente analizaremos los promedios de los alumnos según su uso de internet."
   ]
  },
  {
   "cell_type": "code",
   "execution_count": 61,
   "metadata": {
    "collapsed": false
   },
   "outputs": [
    {
     "name": "stdout",
     "output_type": "stream",
     "text": [
      "12.17269076305221\n",
      "11.026490066225165\n"
     ]
    }
   ],
   "source": [
    "subdataset4 = internet.query('internet == \"yes\"')\n",
    "S=len(subdataset4)\n",
    "promedioS=subdataset4[\"G3\"].sum()/S\n",
    "print (promedioS)\n",
    "\n",
    "subdataset5 = internet.query('internet == \"no\"')\n",
    "N=len(subdataset5)\n",
    "promedioN=subdataset5[\"G3\"].sum()/N\n",
    "\n",
    "\n",
    "print (promedioN)"
   ]
  },
  {
   "cell_type": "markdown",
   "metadata": {},
   "source": [
    "En este caso, los alumnos con internet tiene un promedio igual a 12.17, mientras que los alumnos sin internet tienen un promedio de 11.03, por lo que se puede concluir  que los alumnos con internet tienen mejor rendimiento promedio que los alumnos sin internet."
   ]
  },
  {
   "cell_type": "markdown",
   "metadata": {},
   "source": [
    "# Intervalos de Confianza y Método Bootstrap \n",
    "\n",
    "Se implementa el método Bootstrap obteniendo un conjunto de 1000 estimadores para la media de las edades."
   ]
  },
  {
   "cell_type": "code",
   "execution_count": 62,
   "metadata": {
    "collapsed": false
   },
   "outputs": [],
   "source": [
    "ages = pd.read_csv('muestra_edad.csv')\n",
    "ages = ages['x']\n",
    "n = ages.size\n",
    "\n",
    "\n",
    "poblacionDeMedias = []\n",
    "for i in range(1000):\n",
    "    resamples = []\n",
    "    for i in range(n):\n",
    "        papelito = np.random.choice(ages)\n",
    "        resamples.append(papelito)\n",
    "    resamples = np.asarray(resamples)\n",
    "    media = np.mean(resamples)\n",
    "    poblacionDeMedias.append(media)\n",
    "   \n"
   ]
  },
  {
   "cell_type": "markdown",
   "metadata": {},
   "source": [
    "Luego, se ordena el conjunto de estadísticos. Para construir el intervalo de confianza se considerará un uppertail y un lowertail de $\\frac{\\alpha}{2}$ en cada intervalo. Para encontrar estos puntos se utilizan los percentiles del conjunto."
   ]
  },
  {
   "cell_type": "code",
   "execution_count": 63,
   "metadata": {
    "collapsed": false
   },
   "outputs": [
    {
     "name": "stdout",
     "output_type": "stream",
     "text": [
      "IC 90%: [16.54130769230769, 16.56980056980057]\n",
      "IC 95%: [16.539884615384615, 16.56980056980057]\n",
      "IC 99%: [16.538746153846155, 16.56980056980057]\n"
     ]
    }
   ],
   "source": [
    "\n",
    "poblacionDeMedias.sort()\n",
    "\n",
    "lower90 = np.percentile(poblacionDeMedias,0.05)\n",
    "upper90 = np.percentile(poblacionDeMedias,0.95)\n",
    "\n",
    "i90 = [lower90, upper90]\n",
    "\n",
    "lower95 = np.percentile(poblacionDeMedias,0.025)\n",
    "upper95 = np.percentile(poblacionDeMedias,0.975)\n",
    "\n",
    "i95 = [lower95, upper95]\n",
    "\n",
    "lower99 = np.percentile(poblacionDeMedias,0.005)\n",
    "upper99 = np.percentile(poblacionDeMedias,0.995)\n",
    "\n",
    "i99 = [lower99, upper99]\n",
    "\n",
    "print(\"IC 90%: \"+str(i90))\n",
    "print(\"IC 95%: \"+str(i95))\n",
    "print(\"IC 99%: \"+str(i99))"
   ]
  },
  {
   "cell_type": "markdown",
   "metadata": {},
   "source": [
    "De esta manera de obtienen los siguientes intervalos de confianza.\n",
    "\n",
    "$$IC 90\\%: [16.538455840455839, 16.579745014245013]$$\n",
    "$$IC 95\\%: [16.535609686609686, 16.580456552706554]$$\n",
    "$$IC 99\\%: [16.533332763532762, 16.581025783475784]$$\n",
    "\n",
    "Ahora utilizando el método Bootstrap se obtienen intervalos de confianza para la mediana de las edades. Se utilizan los mismos parámetros que en el caso de la media de las edades.\n",
    "\n"
   ]
  },
  {
   "cell_type": "code",
   "execution_count": 64,
   "metadata": {
    "collapsed": false
   },
   "outputs": [
    {
     "name": "stdout",
     "output_type": "stream",
     "text": [
      "IC 90%: [16.0, 16.490499999999997]\n",
      "IC 95%: [16.0, 16.74025]\n",
      "IC 99%: [16.0, 16.940049999999999]\n"
     ]
    }
   ],
   "source": [
    "poblacionDeMedianas = []\n",
    "for i in range(1000):\n",
    "    resamplesM = []\n",
    "    for i in range(n):\n",
    "        papelito = np.random.choice(ages)\n",
    "        resamplesM.append(papelito)\n",
    "    resamplesM = np.asarray(resamplesM)\n",
    "    median = np.median(resamplesM)\n",
    "    poblacionDeMedianas.append(median)\n",
    "    \n",
    "poblacionDeMedianas.sort()   \n",
    "\n",
    "lowerM90 = np.percentile(poblacionDeMedianas,0.05)\n",
    "upperM90 = np.percentile(poblacionDeMedianas,0.95)\n",
    "\n",
    "iM90 = [lowerM90, upperM90]\n",
    "\n",
    "lowerM95 = np.percentile(poblacionDeMedianas,0.025)\n",
    "upperM95 = np.percentile(poblacionDeMedianas,0.975)\n",
    "\n",
    "iM95 = [lowerM95, upperM95]\n",
    "\n",
    "lowerM99 = np.percentile(poblacionDeMedianas,0.005)\n",
    "upperM99 = np.percentile(poblacionDeMedianas,0.995)\n",
    "\n",
    "iM99 = [lowerM99, upperM99]\n",
    "\n",
    "print(\"IC 90%: \"+str(iM90))\n",
    "print(\"IC 95%: \"+str(iM95))\n",
    "print(\"IC 99%: \"+str(iM99))"
   ]
  },
  {
   "cell_type": "markdown",
   "metadata": {},
   "source": [
    "Se obtienen los siguientes intervalos de confianza.\n",
    "\n",
    "$$IC 90\\%: [16.0, 17.0]$$\n",
    "$$IC 95\\%: [16.0, 17.0]$$\n",
    "$$IC 99\\%: [16.0, 17.0]$$"
   ]
  },
  {
   "cell_type": "markdown",
   "metadata": {},
   "source": [
    "#  Contraste de Hipótesis\n",
    "\n",
    "Un Contraste de Hipótesis es un procedimiento para decidir si una afirmación se encuentra apoyada por evidencia experimental. En estos procedimiento se cuenta con una hipótesis nula $(H_0)$ y una hipótesis alternativa $(H_1)$. La hipótesis nula se puede rechazar o no, donde se hace la analogía de que la hipótesis nula es inocente (verdadera) hasta que no se pruebe lo contrario.\n",
    "\n",
    "En este caso se cuenta con dos poblaciones, una de estudiantes aprobados y una de estudiantes reprobados, ambos provenientes de la escuela Gabriel Pereira. El estudio deseado es determinar si la proporción de aprobados y reprobados es la misma, para esto se considera una variable $X$ como una variable aleatoria de Bernoulli que toma el valor 1 cuando el alumno reprueba y 0 si el alumno aprueba. Como es sabido $E[x] = p$ y $Var[X] = p(1 - p)$, por lo que $p$ se puede estimar como el promedio de $X$. Luego, por el TLC, para $n$ muy grande el estimador sigue una distribución normal $\\hat{p} = \\bar{p} \\approx N(p, \\frac{p(1 - p)}{n})$.\n",
    "\n",
    "De esta manera se construye el siguiente Test de Hipótesis.\n",
    "\n",
    "$$ H_0: p = p_0$$\n",
    "$$ H_1: p \\neq p_0$$\n",
    "\n",
    "Donde el estadístico está dado por la siguiente expresión, la cual es válida bajo $H_0$ verdadero.\n",
    "\n",
    "$$ Z = \\frac{\\hat{p} - p}{\\sqrt{\\frac{p(1 - p)}{x}}} \\rightarrow \\frac{\\hat{p} - p_0}{\\sqrt{\\frac{p_0(1 - p_0)}{x}}} \\sim N(0, 1)$$\n",
    "\n",
    "El cual se rechaza si $Z < z_{(1 - \\frac{\\alpha}{2})}$ ó $ Z > z_{(\\frac{\\alpha}{2})} $.\n",
    "\n",
    "En este caso, como se quiere comprobar si la proporción de reprobados es igual a la de aprobados las hipótesis quedan de la siguiente forma.\n",
    "\n",
    "$$ H_0: p = 0.5$$\n",
    "$$ H_1: p \\neq 0.5$$\n",
    "\n",
    "Se calcula $\\hat{p}$, el estadístico de contraste y los puntos $ z_{(1 - \\frac{\\alpha}{2})}$ y $z_{(\\frac{\\alpha}{2})}$."
   ]
  },
  {
   "cell_type": "code",
   "execution_count": 65,
   "metadata": {
    "collapsed": false
   },
   "outputs": [
    {
     "name": "stdout",
     "output_type": "stream",
     "text": [
      "True\n",
      "False\n",
      "-12.301280949655775\n"
     ]
    }
   ],
   "source": [
    "datosEstudiantes = pd.read_csv('student-por.csv',sep=\";\")\n",
    "reprobadosGP = datosEstudiantes[['G3','school']].query('G3 < 11 and school==\"GP\"')\n",
    "aprobadosGP = datosEstudiantes[['G3','school']].query('G3 >= 11 and school==\"GP\"')\n",
    "\n",
    "alpha = 0.5\n",
    "n = (reprobadosGP['G3'].size + aprobadosGP['G3'].size)\n",
    "propor = reprobadosGP['G3'].size/n\n",
    "\n",
    "stadisticoContraste = (propor - 0.5)/(((0.5*(1 - 0.5)/n))**(1/2))\n",
    "zPoints = stats.norm.interval(alpha/2)\n",
    "infZ, supZ = zPoints\n",
    "print(stadisticoContraste <= infZ)\n",
    "print(stadisticoContraste >= supZ)\n",
    "print(stadisticoContraste)"
   ]
  },
  {
   "cell_type": "markdown",
   "metadata": {},
   "source": [
    "Como el estadístico de contraste $Z \\approx -12.30 $ es menor que $ z_{(1 - \\frac{\\alpha}{2})} $, se rechaza $H_0$ con certeza de $95\\%$, por lo tanto, la proporción entre aprobados y reprobados no es igual.\n",
    "\n",
    "Se calcula el p-value del contraste realizado, el cual es de $4.5 \\cdot 10^{-35}$, por lo que la probabilidad de rechazar y estar equivocado es muy baja, por lo que hay muy pocas probabilidades de caer en este caso."
   ]
  },
  {
   "cell_type": "code",
   "execution_count": 66,
   "metadata": {
    "collapsed": false
   },
   "outputs": [
    {
     "name": "stdout",
     "output_type": "stream",
     "text": [
      "p-value: 4.45745133756e-35\n"
     ]
    }
   ],
   "source": [
    "pValue = stats.norm.cdf(stadisticoContraste)\n",
    "print(\"p-value: \" + str(pValue))"
   ]
  },
  {
   "cell_type": "markdown",
   "metadata": {},
   "source": [
    "# Regresión Lineal \n",
    "\n",
    "a) Se utiliza la libreria seaborn para visualizar la relación entre el promedio de las columnas G1 y G2 con la columna G3 del dataset \"student-por.csv\".\n"
   ]
  },
  {
   "cell_type": "code",
   "execution_count": 67,
   "metadata": {
    "collapsed": false,
    "scrolled": true
   },
   "outputs": [
    {
     "data": {
      "image/png": "[encoded data removed]",
      "text/plain": [
       "<matplotlib.figure.Figure at 0x1f1bfc1beb8>"
      ]
     },
     "metadata": {},
     "output_type": "display_data"
    }
   ],
   "source": [
    "students = pd.read_csv(\"student-por.csv\",sep=\";\", usecols=[\"G1\",\"G2\",\"G3\"])\n",
    "sns.set_style(\"white\")\n",
    "x=np.arange(0,len(students))\n",
    "y1=students[\"G1\"]\n",
    "y2=students[\"G2\"]\n",
    "# Variable promedio\n",
    "y3 = (students[\"G1\"] + students[\"G2\"])/2\n",
    "# Variable Dependiente\n",
    "y4 = students[\"G3\"]\n",
    "\n",
    "'''\n",
    "sns.regplot(x,y2,lowess=True, line_kws={\"color\":\"magenta\", \"linewidth\":5})\n",
    "plt.title('Notas Primer periodo' + str())\n",
    "plt.ylabel('Nota')\n",
    "plt.xlabel(\"G1\")\n",
    "plt.show()\n",
    "\n",
    "sns.regplot(x,y1,lowess=True, line_kws={\"color\":\"green\", \"linewidth\":5})\n",
    "plt.title('Notas segundo periodo' + str())\n",
    "plt.ylabel('Nota')\n",
    "plt.xlabel(\"G2\")\n",
    "plt.show()\n",
    "'''\n",
    "sns.regplot(y3,y4,lowess=True,line_kws={\"color\":\"magenta\", \"linewidth\":5})\n",
    "plt.xlabel(\"Promedio G1-G2\")\n",
    "plt.show()\n",
    "\n"
   ]
  },
  {
   "cell_type": "markdown",
   "metadata": {},
   "source": [
    "Se logra observar en el gráfico que el promedio de los primeros períodos se comporta similar a la nota final obtenida, mostrando una relación lineal entre las variables analizadas, a pesar de los puntos alejados del gráfico. Esto indica que es probable que exista una relación lineal entre las variables. \n"
   ]
  },
  {
   "cell_type": "markdown",
   "metadata": {},
   "source": [
    "b) Se realizan boxplots para las variables involucradas en la regresión."
   ]
  },
  {
   "cell_type": "code",
   "execution_count": 68,
   "metadata": {
    "collapsed": false,
    "scrolled": true
   },
   "outputs": [
    {
     "data": {
      "image/png": "[encoded data removed]",
      "text/plain": [
       "<matplotlib.figure.Figure at 0x1f1c005b320>"
      ]
     },
     "metadata": {},
     "output_type": "display_data"
    }
   ],
   "source": [
    "#plt.figure(figsize=(10, 6))\n",
    "#plt.boxplot(students[\"G1\"])\n",
    "#plt.title('Notas primer periodo' + str())\n",
    "#plt.ylabel('Nota')\n",
    "#plt.xlabel(\"G1\")\n",
    "#plt.show()  \n",
    "#plt.figure(figsize=(10, 6))\n",
    "#plt.boxplot(students[\"G2\"])\n",
    "#plt.title('Notas segundo periodo' + str())\n",
    "#plt.ylabel('Nota')\n",
    "#plt.xlabel(\"G2\")\n",
    "#plt.show()  \n",
    "plt.figure(figsize=(10, 6))\n",
    "plt.boxplot([y3,y4])\n",
    "plt.title(\"Boxplots del promedio de notas G1-G2 y la nota final G3\")\n",
    "plt.ylabel('Nota')\n",
    "plt.xlabel(\"G2\")\n",
    "plt.xticks([1,2],[\"Promedio G1-G2\",\"Nota Final G3\"])\n",
    "plt.show()  "
   ]
  },
  {
   "cell_type": "markdown",
   "metadata": {},
   "source": [
    "Se logra observar en ambos boxplot que la mediana (Q2) se presenta dentro del rango de los 10 y los 12.5. Se puede observar que no hay diferencia significativa entre las dos muestras, dado que las cajas se sobreponen entre si. Dado lo anterior, se esperaría que al construir el modelo de regresión lineal $\\beta_1$ fuera muy cercano a 1 y $\\beta_0$ muy cercano a 0.\n",
    "\n",
    "c)Se grafica la curva de densidad para cada periodo incluyendo el valor de asimetría:"
   ]
  },
  {
   "cell_type": "code",
   "execution_count": 69,
   "metadata": {
    "collapsed": false
   },
   "outputs": [
    {
     "name": "stdout",
     "output_type": "stream",
     "text": [
      "La asimetria para el promedio entre G1 y G2 es: -0.014090732647023055\n"
     ]
    },
    {
     "data": {
      "image/png": "[encoded data removed]",
      "text/plain": [
       "<matplotlib.figure.Figure at 0x1f1c0004400>"
      ]
     },
     "metadata": {},
     "output_type": "display_data"
    },
    {
     "name": "stdout",
     "output_type": "stream",
     "text": [
      "La asimetria para G3 es: -0.9107980386425641\n"
     ]
    }
   ],
   "source": [
    "from scipy.stats import gaussian_kde,skew\n",
    "\n",
    "fig = plt.figure(figsize=(15,5))\n",
    "\n",
    "# Primer Gráfico de Densidad\n",
    "density1 = gaussian_kde(y3)\n",
    "xs = np.linspace(0,20,200)\n",
    "density1.covariance_factor = lambda : .25\n",
    "density1._compute_covariance()\n",
    "plt.subplot(121)\n",
    "plt.plot(xs,density1(xs))\n",
    "plt.title('Curva de densidad para el promedio de G1 y G2' + str())\n",
    "plt.text(0.14,0.14,\"Asimetría: \"+ str(np.round(skew(y3),6)))\n",
    "print( 'La asimetria para el promedio entre G1 y G2 es: {}'.format( skew(y3) ))\n",
    "\n",
    "# Segundo Gráfico\n",
    "density2 = gaussian_kde(y4)\n",
    "xs = np.linspace(0,20,200)\n",
    "density2.covariance_factor = lambda : .25\n",
    "density2._compute_covariance()\n",
    "plt.subplot(122)\n",
    "plt.plot(xs,density2(xs))\n",
    "plt.text(0.14,0.14,\"Asimetría: \"+ str(np.round(skew(y4),6)))\n",
    "#plt.plot([y4.mean(),y4.mean(),y4.mean(),y4.mean()],[0, 0.05, 0.10, 0.15])\n",
    "#plt.plot([y4.median(),y4.median(),y4.median(),y4.median()],[0, 0.05, 0.10, 0.15])\n",
    "plt.title('Curva de densidad para G3' + str())\n",
    "plt.show()\n",
    "print( 'La asimetria para G3 es: {}'.format( skew(y4) ))"
   ]
  },
  {
   "cell_type": "markdown",
   "metadata": {},
   "source": [
    "Se logra observar que la asimetría para ambos periodos es negativa, lo cual indica que las notas esta cargadas mas hacia la izquierda de la curva. Se logra observar además que el comportamiento de ambas curvas es similar, presentando una mayor densidad de datos nuevamente entre 10 y 12.5.\n",
    "\n",
    "d) Se calcula la correlacion entre G1 y G2:"
   ]
  },
  {
   "cell_type": "code",
   "execution_count": 70,
   "metadata": {
    "collapsed": false
   },
   "outputs": [
    {
     "name": "stdout",
     "output_type": "stream",
     "text": [
      "[[ 1.          0.90488844]\n",
      " [ 0.90488844  1.        ]]\n"
     ]
    }
   ],
   "source": [
    "#print (np.corrcoef(y1,y2))\n",
    "print(np.corrcoef(y3,y4))"
   ]
  },
  {
   "cell_type": "markdown",
   "metadata": {},
   "source": [
    "De esto se obtiene que la correlación es 0.90488844, lo cual es un buen indicador de la similitud entre ambos periodos y presenta concordancia con lo analizado previamente en esta sección sobre las relaciones que existen entre ambos periodos. Además, como la correlación es positiva, se puede determinar que a medida que una variable aumenta la otra también aumenta y viceversa.\n",
    "\n",
    "e) Utilizando la librería \"sklearn\", se construye un modelo de regresión lineal, utilizando el promedio de G1 y G2 como variable independiente y G3 como variable dependiente.\n"
   ]
  },
  {
   "cell_type": "code",
   "execution_count": 71,
   "metadata": {
    "collapsed": false
   },
   "outputs": [
    {
     "name": "stdout",
     "output_type": "stream",
     "text": [
      "Beta 1: \n",
      " 1.06991007599\n",
      "Beta 0: \n",
      " -0.381471111505\n"
     ]
    }
   ],
   "source": [
    "from sklearn import linear_model\n",
    "lm = linear_model.LinearRegression()\n",
    "y4 = students[\"G3\"]\n",
    "\n",
    "lm.fit(y3.values.reshape(-1,1),y4.values.reshape(-1,1))\n",
    "\n",
    "prediccion = lm.predict(y3.values.reshape(-1,1))\n",
    "beta1 = lm.coef_[0][0]\n",
    "print(\"Beta 1: \\n\",beta1)\n",
    "print(\"Beta 0: \\n\", lm.intercept_[0])"
   ]
  },
  {
   "cell_type": "markdown",
   "metadata": {},
   "source": [
    "De esta manera, el modelo resultan es el siguiente\n",
    "\n",
    "$$ \\hat{y_i} = \\hat{\\beta_1}\\cdot x_{i} + \\beta_{0}$$\n",
    "$$ \\hat{y_i} = 1.06991007599 \\cdot x_{i} - 0.381471111505$$\n",
    "\n",
    "Tal como se esperaba en la pregunta $\\textbf{b)}$, $\\hat{\\beta_1} \\sim 1$ y $\\hat{\\beta_0} \\sim 0$.\n",
    "\n",
    "f) Se calcula el coeficiente de determinación se la siguiente manera\n",
    "\n",
    "$$ R^2 = 1 - \\frac{SSE}{SST}$$\n",
    "\n",
    "Para esto se calcula todos los $\\hat{y_i}$, para luego calcular la suma de los cuadrados de los residuos. Como también es necesario $SST$, se calcula $\\sum(y_i - \\bar{y})^2$."
   ]
  },
  {
   "cell_type": "code",
   "execution_count": 72,
   "metadata": {
    "collapsed": false
   },
   "outputs": [
    {
     "name": "stdout",
     "output_type": "stream",
     "text": [
      "0.8188230930224782\n"
     ]
    }
   ],
   "source": [
    "pred = pd.DataFrame(prediccion)\n",
    "y_mean = y4.mean()\n",
    "s_yy = ((y4 - y_mean)**2).sum()\n",
    "SSE_vector = ((y4 - pred[0])**2)\n",
    "r2mano = 1-(SSE_vector.sum()/s_yy)\n",
    "print(r2mano)"
   ]
  },
  {
   "cell_type": "markdown",
   "metadata": {},
   "source": [
    "Se obtiene un coeficiente de determinación $R^2 \\approx 0.82$, esto indica que un $82\\%$ de la variable dependiente se debe al valor de la variable independiente. \n",
    "\n",
    "g) Además, debido a que es mayor que $0.7$ (valor heurístico frecuentemente usado) el ajuste realizado es de buena calidad. Esto debido a que un $82\\%$ del valor de la variable dependiente está directamente relacionado con el valor de la variable independiente.\n",
    "\n",
    "i) Se realiza un Contraste de Hipótesis para comprobar si existe relación, en este caso lineal, entre las variables.\n",
    "\n",
    "Sea \n",
    "$$ H_0: \\beta_1 = 0 $$\n",
    "$$ H_1: \\beta_1 \\neq  0 $$\n",
    "\n",
    "Donde $H_0$ se rechaza si $t < t_{(1 - \\frac{\\alpha}{2}, n - 2)}$ ó $t > t_{(\\frac{\\alpha}{2}, n - 2)}$\n",
    "\n",
    "Se debe construir un estadístico que siga una determinada distribución cuando se cumple $H_0$, en este caso $t = \\frac{\\hat{\\beta_1} - 0}{\\frac{\\hat{\\sigma}}{\\sqrt{S_xx}}}$ sigue una distribución $T$ con $n - 2$ grados de libertad.\n",
    "\n",
    "De esta manera se calcula un estimador para $\\sigma$, además del estadístico necesario y los valores de la distribución T necesarios. Además se utiliza un nivel de significancia de $0.05$."
   ]
  },
  {
   "cell_type": "code",
   "execution_count": 73,
   "metadata": {
    "collapsed": false
   },
   "outputs": [
    {
     "name": "stdout",
     "output_type": "stream",
     "text": [
      "Estadístico: 54.0749044809\n",
      "False\n",
      "True\n"
     ]
    }
   ],
   "source": [
    "\n",
    "\n",
    "gradosDeLibertad = SSE_vector.size - 2\n",
    "s_quare = SSE_vector.sum()/gradosDeLibertad\n",
    "x_mean = y3.mean()\n",
    "s_xx = ((y3 - x_mean)**2).sum()\n",
    "stadistic = beta1/((s_quare/s_xx)**(1/2))\n",
    "\n",
    "tValues = stats.t.interval(0.95/2,gradosDeLibertad)\n",
    "\n",
    "t1MenosAlphaMedios, tAlphaMedios = tValues\n",
    "print(\"Estadístico: \"+ str(stadistic))\n",
    "# Comprobar si se encuentra en región Crítica\n",
    "print(stadistic < t1MenosAlphaMedios)\n",
    "print(stadistic > tAlphaMedios)\n",
    "\n"
   ]
  },
  {
   "cell_type": "markdown",
   "metadata": {},
   "source": [
    "Como $t = 54.0749044809 > t_{(\\frac{0.05}{2}, n - 2)}$ se rechaza $H_0$ con un $95\\%$ de certeza, por lo que si existe relación lineal entre las variables.\n",
    "\n",
    "También, se calcula el p-valor del contraste, el cual tiene un valor de $3.2 \\cdot 10^{-238}$, por lo que el contraste realizado es de gran calidad y la probabilidad de rechazar incorrectamente es practicamente 0."
   ]
  },
  {
   "cell_type": "code",
   "execution_count": 74,
   "metadata": {
    "collapsed": false
   },
   "outputs": [
    {
     "data": {
      "text/plain": [
       "3.2834727907480367e-238"
      ]
     },
     "execution_count": 74,
     "metadata": {},
     "output_type": "execute_result"
    }
   ],
   "source": [
    "stats.t.cdf(1 - stadistic, gradosDeLibertad)"
   ]
  },
  {
   "cell_type": "markdown",
   "metadata": {},
   "source": [
    "j) Considerando\n",
    "\n",
    "$$IC = \\left[ \\hat{Y}_{x_{0}}\\pm T_{\\alpha /2,n-2}\\hat{\\sigma}\\sqrt{1+\\frac{1}{n}+\\frac{(x_{0}-\\bar{x})^2}{S_{xx}}} \\right]$$\n",
    "$$S_{xx} = \\sum_{i=1}^{n}(x_{i}-\\bar{x})^2$$\n",
    "\n",
    "Se construyen tres intervalos de confianza para la respuesta real de $y$ cuando $x_0 = 11$.\n",
    "\n",
    "$$90\\% = [10.563885557855732, 12.211193890841331] $$\n",
    "$$95\\% = [10.511651574079075, 12.263427874617989] $$\n",
    "$$99\\% = [10.468940430354284, 12.30613901834278] $$"
   ]
  },
  {
   "cell_type": "code",
   "execution_count": 75,
   "metadata": {
    "collapsed": false
   },
   "outputs": [
    {
     "name": "stdout",
     "output_type": "stream",
     "text": [
      "Intervalo de confianza con 90% de certeza: [10.563885557855732, 12.211193890841331]\n",
      "Intervalo de confianza con 95% de certeza: [10.511651574079075, 12.263427874617989]\n",
      "Intervalo de confianza con 99% de certeza: [10.468940430354284, 12.30613901834278]\n"
     ]
    }
   ],
   "source": [
    "# Valores t-student\n",
    "no, tValues90alphaMedios = stats.t.interval(0.90/2, gradosDeLibertad)\n",
    "no, tValues95alphaMedios = stats.t.interval(0.95/2, gradosDeLibertad)\n",
    "no, tValues99alphaMedios = stats.t.interval(0.99/2, gradosDeLibertad)\n",
    "\n",
    "vPredic = lm.predict(np.array(11).reshape(-1,1))[0][0]\n",
    "\n",
    "IC90inf = vPredic - tValues90alphaMedios*((s_quare)**(1/2))*((1 + (1/SSE_vector.size) + ((11-y3.mean())/s_xx))**(1/2))\n",
    "IC90sup = vPredic + tValues90alphaMedios*((s_quare)**(1/2))*((1 + (1/SSE_vector.size) + ((11-y3.mean())/s_xx))**(1/2))\n",
    "IC90 = [IC90inf, IC90sup]\n",
    "\n",
    "IC95inf = vPredic - tValues95alphaMedios*((s_quare)**(1/2))*((1 + (1/SSE_vector.size) + ((11-y3.mean())/s_xx))**(1/2))\n",
    "IC95sup = vPredic + tValues95alphaMedios*((s_quare)**(1/2))*((1 + (1/SSE_vector.size) + ((11-y3.mean())/s_xx))**(1/2))\n",
    "IC95 = [IC95inf, IC95sup]\n",
    "\n",
    "IC99inf = vPredic - tValues99alphaMedios*((s_quare)**(1/2))*((1 + (1/SSE_vector.size) + ((11-y3.mean())/s_xx))**(1/2))\n",
    "IC99sup = vPredic + tValues99alphaMedios*((s_quare)**(1/2))*((1 + (1/SSE_vector.size) + ((11-y3.mean())/s_xx))**(1/2))\n",
    "IC99 = [IC99inf, IC99sup]\n",
    "\n",
    "print(\"Intervalo de confianza con 90% de certeza: \"+ str(IC90))\n",
    "print(\"Intervalo de confianza con 95% de certeza: \"+ str(IC95))\n",
    "print(\"Intervalo de confianza con 99% de certeza: \"+ str(IC99))"
   ]
  },
  {
   "cell_type": "markdown",
   "metadata": {
    "collapsed": true
   },
   "source": [
    "Se puede observar que todos los intervalos incluyen el valor 11. Además, a medida que aumenta la certeza sobre el intervalo aumenta el largo de este, lo cual tiene mucho sentido dado que si uno quiere estar más seguro de algo aumenta su rango de posibilidades."
   ]
  },
  {
   "cell_type": "code",
   "execution_count": null,
   "metadata": {
    "collapsed": true
   },
   "outputs": [],
   "source": []
  }
 ],
 "metadata": {
  "kernelspec": {
   "display_name": "Python 3",
   "language": "python",
   "name": "python3"
  },
  "language_info": {
   "codemirror_mode": {
    "name": "ipython",
    "version": 3
   },
   "file_extension": ".py",
   "mimetype": "text/x-python",
   "name": "python",
   "nbconvert_exporter": "python",
   "pygments_lexer": "ipython3",
   "version": "3.6.0"
  }
 },
 "nbformat": 4,
 "nbformat_minor": 2
}
